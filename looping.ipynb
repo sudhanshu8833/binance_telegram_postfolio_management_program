{
 "cells": [
  {
   "cell_type": "code",
   "execution_count": null,
   "metadata": {},
   "outputs": [],
   "source": [
    "# %%\n",
    "# importing the threading module\n",
    "from datetime import date\n",
    "import pandas as pd\n",
    "import time\n",
    "import sys\n",
    "# local modules\n",
    "from binance.client import Client\n",
    "from binance.enums import *\n",
    "from indicator import indicators\n",
    "# local file\n",
    "import secrets\n",
    "import json\n",
    "import yfinance as yf\n",
    "import numpy as np\n",
    "import datetime as dt\n",
    "import requests \n",
    "import json \n",
    "import pandas as pd \n",
    "import numpy as np  \n",
    "import requests\n",
    "import time\n",
    "import urllib\n",
    "from finta import TA\n",
    "from multiprocessing import Process\n",
    "import threading\n",
    "\n",
    "\n",
    "\n",
    "\n",
    "client = Client(\"eTBUPpmjXS51fnIYPF6gi1e2LEblktGnlEjCQTZNeKZXXRakWJYyoVifOca5nf88\", \"wywcbmdQueYC1VvWFeTRZhYpz21bfk2V0NM09J8vCwFvNeRAuOPNh8r74kv4jfD2\")\n",
    "# import telepot\n",
    "# import pandas as pd\n",
    "# bot = telepot.Bot('1715056219:AAGxytb3U1gIt1vlVn8Jf5b4za3E1HPuOd4')\n",
    "# bot.getMe()\n",
    "import requests\n",
    "import time\n",
    "import urllib\n"
   ]
  },
  {
   "cell_type": "code",
   "execution_count": null,
   "metadata": {},
   "outputs": [],
   "source": [
    "data=client.get_account_snapshot(type='SPOT')\n",
    "wallet=data['snapshotVos'][0]['data']['balances']\n",
    "for i in wallet:\n",
    "    if i['asset']=='USDT':\n",
    "        print(i)\n",
    "        p_l=i['free']\n",
    "        break"
   ]
  },
  {
   "cell_type": "code",
   "execution_count": null,
   "metadata": {},
   "outputs": [],
   "source": []
  },
  {
   "cell_type": "code",
   "execution_count": null,
   "metadata": {},
   "outputs": [],
   "source": [
    "import telepot\n",
    "import pandas as pd\n",
    "bot = telepot.Bot('5110319123:AAHTVeMjZoNls-ir-w7dg8PvlzsdbKurMaM')\n",
    "bot.getMe()"
   ]
  },
  {
   "cell_type": "code",
   "execution_count": null,
   "metadata": {},
   "outputs": [],
   "source": [
    "bot.getUpdates()"
   ]
  },
  {
   "cell_type": "code",
   "execution_count": null,
   "metadata": {},
   "outputs": [],
   "source": [
    "order = client.futures_create_order(\n",
    "    symbol='BTCUSDT',\n",
    "    side=Client.SIDE_BUY,\n",
    "    type=Client.ORDER_TYPE_MARKET,\n",
    "    quantity=0.001)\n"
   ]
  },
  {
   "cell_type": "code",
   "execution_count": null,
   "metadata": {},
   "outputs": [],
   "source": []
  },
  {
   "cell_type": "code",
   "execution_count": null,
   "metadata": {},
   "outputs": [],
   "source": [
    "client.get_account_snapshot(type='FUTURES')"
   ]
  },
  {
   "cell_type": "code",
   "execution_count": null,
   "metadata": {},
   "outputs": [],
   "source": [
    "order = client.create_order(\n",
    "    symbol='BTCUSDT',\n",
    "    side=Client.SIDE_SELL,\n",
    "    type=Client.ORDER_TYPE_MARKET,\n",
    "    quantity=0.001)"
   ]
  },
  {
   "cell_type": "code",
   "execution_count": null,
   "metadata": {},
   "outputs": [],
   "source": [
    "\n",
    "def ltp_price(instrument):\n",
    "    prices = client.get_all_tickers()\n",
    "    for i in range(len(prices)):\n",
    "        if prices[i]['symbol']==str(instrument):\n",
    "            \n",
    "            return float(prices[i]['price'])\n",
    "\n",
    "\n",
    "# %%\n",
    "df3 = pd.read_csv(\"account1.csv\")\n",
    "# df3.set_index(\"parameters\",inplace=True)\n",
    "# df2=df3.T\n",
    "\n",
    "account1=[]\n",
    "for i in range(len(df3)):\n",
    "    api_key=df3['api key'][i]\n",
    "    api_secret_key=df3['api secret key'][i]\n",
    "    client = Client(str(api_key), str(api_secret_key))\n",
    "    account1.append(client)\n",
    "\n",
    "account2=[]\n",
    "for i in range(len(df3)):\n",
    "    api_key=df3['api key'][i]\n",
    "    api_secret_key=df3['api secret key'][i]\n",
    "    client = Client(str(api_key), str(api_secret_key))\n",
    "    account2.append(client)\n",
    "\n",
    "account3=[]\n",
    "for i in range(len(df3)):\n",
    "    api_key=df3['api key'][i]\n",
    "    api_secret_key=df3['api secret key'][i]\n",
    "    client = Client(str(api_key), str(api_secret_key))\n",
    "    account3.append(client)\n",
    "\n",
    "account4=[]\n",
    "for i in range(len(df3)):\n",
    "    api_key=df3['api key'][i]\n",
    "    api_secret_key=df3['api secret key'][i]\n",
    "    client = Client(str(api_key), str(api_secret_key))\n",
    "    account4.append(client)\n",
    "\n"
   ]
  },
  {
   "cell_type": "code",
   "execution_count": null,
   "metadata": {},
   "outputs": [],
   "source": [
    "import pandas as pd\n",
    "df3 = pd.read_csv(\"parameters.csv\")\n"
   ]
  },
  {
   "cell_type": "code",
   "execution_count": null,
   "metadata": {},
   "outputs": [],
   "source": [
    "df3"
   ]
  },
  {
   "cell_type": "code",
   "execution_count": null,
   "metadata": {},
   "outputs": [],
   "source": [
    "while True:\n",
    "    try:\n",
    "        from pprint import pprint\n",
    "        response = bot.getUpdates()\n",
    "\n",
    "\n",
    "        if len(response)>j:\n",
    "            if 'document' in response[-1]['message']:\n",
    "                \n",
    "                # if response[-1]['message']['document']['file_name'].upper()=='STOCKS.CSV':\n",
    "                    \n",
    "                #     file_id=response[-1]['message']['document']['file_id']\n",
    "                \n",
    "                #     endpoint=r\"https://api.telegram.org/bot1715056219:AAGxytb3U1gIt1vlVn8Jf5b4za3E1HPuOd4/getFile?file_id={}\".format(file_id)\n",
    "                #     content=requests.get(url=endpoint)\n",
    "                #     content=content.json()\n",
    "                \n",
    "                #     file_path=content['result']['file_path']\n",
    "                #     endpoint=r\"https://api.telegram.org/file/bot1715056219:AAGxytb3U1gIt1vlVn8Jf5b4za3E1HPuOd4/{}\".format(file_path)\n",
    "                #     req = requests.get(endpoint)\n",
    "                #     url_content = req.content\n",
    "                #     csv_file = open('stocks.csv', 'wb')\n",
    "                \n",
    "                #     csv_file.write(url_content)\n",
    "                #     csv_file.close()\n",
    "                \n",
    "                #     bot.sendDocument(1039725953, document=open('stocks.csv', 'rb'))\n",
    "                #     bot.sendMessage(1039725953,'please veriy if the stocks are updated or not')\n",
    "\n",
    "                if response[-1]['message']['document']['file_name'].upper()=='PARAMETERS.CSV':\n",
    "                    file_id=response[-1]['message']['document']['file_id']\n",
    "                \n",
    "                    endpoint=r\"https://api.telegram.org/bot1715056219:AAGxytb3U1gIt1vlVn8Jf5b4za3E1HPuOd4/getFile?file_id={}\".format(file_id)\n",
    "                    content=requests.get(url=endpoint)\n",
    "                    content=content.json()\n",
    "                \n",
    "                    file_path=content['result']['file_path']\n",
    "                    endpoint=r\"https://api.telegram.org/file/bot1715056219:AAGxytb3U1gIt1vlVn8Jf5b4za3E1HPuOd4/{}\".format(file_path)\n",
    "                    req = requests.get(endpoint)\n",
    "                    url_content = req.content\n",
    "                    csv_file = open('parameters.csv', 'wb')\n",
    "                \n",
    "                    csv_file.write(url_content)\n",
    "                    csv_file.close()\n",
    "                \n",
    "                    bot.sendDocument(1039725953, document=open('parameters.csv', 'rb'))\n",
    "                    bot.sendDocument(1851811921, document=open('parameters.csv', 'rb'))\n",
    "                    bot.sendMessage(1039725953,'please veriy if the parameters are updated or not')\n",
    "                    bot.sendMessage(1851811921,'please veriy if the parameters are updated or not')\n",
    "\n",
    "            else:\n",
    "\n",
    "                message=response[-1]['message']['text']\n",
    "                \n",
    "                message=message.upper()\n",
    "                # if message=='SEE STOCKS':\n",
    "                    \n",
    "                #     bot.sendDocument(1039725953, document=open('stocks.csv', 'rb'))\n",
    "\n",
    "                # if message=='CHANGE STOCKS':\n",
    "                #     bot.sendMessage(1039725953,'please first write \"SEE STOCKS\" and have the list of presently running stocks and make all the changes you want and then send it back' )\n",
    "\n",
    "\n",
    "                if message=='SEE PARAMETERS':\n",
    "                    bot.sendDocument(1039725953, document=open('parameters.csv', 'rb'))\n",
    "                    bot.sendDocument(1851811921, document=open('parameters.csv', 'rb'))\n",
    "\n",
    "        j=len(response)\n",
    "\n",
    "    except:\n",
    "        print(\"some error\")"
   ]
  },
  {
   "cell_type": "code",
   "execution_count": null,
   "metadata": {},
   "outputs": [],
   "source": [
    "import pandas as pd\n",
    "df3 = pd.read_csv(\"parameters.csv\")"
   ]
  },
  {
   "cell_type": "code",
   "execution_count": null,
   "metadata": {},
   "outputs": [],
   "source": [
    "type(df3['account1'][1])"
   ]
  },
  {
   "cell_type": "code",
   "execution_count": null,
   "metadata": {},
   "outputs": [],
   "source": [
    "t={}\n",
    "l=2\n",
    "p=45\n",
    "t[str(l)]=str(p)"
   ]
  },
  {
   "cell_type": "code",
   "execution_count": null,
   "metadata": {},
   "outputs": [],
   "source": [
    "t.append({'st':'lk'})"
   ]
  },
  {
   "cell_type": "code",
   "execution_count": null,
   "metadata": {},
   "outputs": [],
   "source": [
    "t['st']='lk'"
   ]
  },
  {
   "cell_type": "code",
   "execution_count": null,
   "metadata": {},
   "outputs": [],
   "source": [
    "t"
   ]
  },
  {
   "cell_type": "code",
   "execution_count": null,
   "metadata": {},
   "outputs": [],
   "source": [
    "for i in range(len(t)):\n",
    "   \n",
    "    "
   ]
  },
  {
   "cell_type": "code",
   "execution_count": null,
   "metadata": {},
   "outputs": [],
   "source": []
  }
 ],
 "metadata": {
  "kernelspec": {
   "display_name": "Python 3.9.5 64-bit",
   "name": "python395jvsc74a57bd07812ea015bdcee6f23a998adcdd2ef97c151c0c241b7b7070987d9313e41299d"
  },
  "language_info": {
   "codemirror_mode": {
    "name": "ipython",
    "version": 3
   },
   "file_extension": ".py",
   "mimetype": "text/x-python",
   "name": "python",
   "nbconvert_exporter": "python",
   "pygments_lexer": "ipython3",
   "version": "3.9.5"
  },
  "metadata": {
   "interpreter": {
    "hash": "7812ea015bdcee6f23a998adcdd2ef97c151c0c241b7b7070987d9313e41299d"
   }
  },
  "orig_nbformat": 2
 },
 "nbformat": 4,
 "nbformat_minor": 2
}