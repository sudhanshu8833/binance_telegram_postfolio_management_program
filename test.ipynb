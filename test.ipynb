{
 "cells": [
  {
   "cell_type": "code",
   "execution_count": 1,
   "metadata": {},
   "outputs": [],
   "source": [
    "# %%\n",
    "# importing the threading module\n",
    "from datetime import date\n",
    "import pandas as pd\n",
    "import time\n",
    "import sys\n",
    "# local modules\n",
    "from binance.client import Client\n",
    "from binance.enums import *\n",
    "\n",
    "# local file\n",
    "import secrets\n",
    "import json\n",
    "import yfinance as yf\n",
    "import numpy as np\n",
    "import datetime as dt\n",
    "import requests \n",
    "import json \n",
    "import pandas as pd \n",
    "import numpy as np  \n",
    "import requests\n",
    "import time\n",
    "import urllib\n",
    "from finta import TA\n",
    "from multiprocessing import Process\n",
    "import threading\n",
    "\n",
    "from binance.client import BaseClient\n",
    "\n",
    "df3 = pd.read_csv(\"account1.csv\")"
   ]
  },
  {
   "cell_type": "code",
   "execution_count": 11,
   "metadata": {},
   "outputs": [
    {
     "data": {
      "text/plain": "'2022-04-27'"
     },
     "execution_count": 11,
     "metadata": {},
     "output_type": "execute_result"
    }
   ],
   "source": [
    "import datetime\n",
    "\n",
    "x = datetime.datetime.now()\n",
    "str(x.date())"
   ]
  },
  {
   "cell_type": "code",
   "execution_count": 2,
   "metadata": {},
   "outputs": [],
   "source": [
    "\n",
    "BaseClient.FUTURES_TESTNET_URL='https://fapi.binance.{}/fapi'\n",
    "BaseClient.FUTURES_URL = 'https://testnet.binancefuture.com/fapi'\n",
    "\n",
    "client = Client(\"cc9feab03d1264ed67c07738cdd42502dd80a8b67fedaf2e5f9b6e9c55a2faad\", \"e30d3db72358639f29b6280bf1c54fd564e7b1eb5cb13f020739fd197f396e1b\")"
   ]
  },
  {
   "cell_type": "code",
   "execution_count": 3,
   "metadata": {},
   "outputs": [],
   "source": [
    "     order1 = client.futures_create_order(\n",
    "                                                symbol='BTCUSDT',\n",
    "                                                side=Client.SIDE_SELL,\n",
    "                                                type=Client.ORDER_TYPE_MARKET,\n",
    "                                                quantity=.001)"
   ]
  },
  {
   "cell_type": "code",
   "execution_count": 4,
   "metadata": {},
   "outputs": [
    {
     "data": {
      "text/plain": "{'orderId': 3036188041,\n 'symbol': 'BTCUSDT',\n 'status': 'NEW',\n 'clientOrderId': '38ncvtBZtTbCfOhaXJqqFQ',\n 'price': '0',\n 'avgPrice': '0.00000',\n 'origQty': '0.001',\n 'executedQty': '0',\n 'cumQty': '0',\n 'cumQuote': '0',\n 'timeInForce': 'GTC',\n 'type': 'MARKET',\n 'reduceOnly': False,\n 'closePosition': False,\n 'side': 'SELL',\n 'positionSide': 'BOTH',\n 'stopPrice': '0',\n 'workingType': 'CONTRACT_PRICE',\n 'priceProtect': False,\n 'origType': 'MARKET',\n 'updateTime': 1651067115611}"
     },
     "execution_count": 4,
     "metadata": {},
     "output_type": "execute_result"
    }
   ],
   "source": [
    "order1"
   ]
  },
  {
   "cell_type": "code",
   "execution_count": null,
   "metadata": {},
   "outputs": [],
   "source": [
    "from kinetick.blotter import Blotter\n",
    "\n",
    "\n"
   ]
  },
  {
   "cell_type": "code",
   "execution_count": 12,
   "metadata": {},
   "outputs": [
    {
     "data": {
      "text/plain": "<binance.client.Client at 0x7f8147490100>"
     },
     "execution_count": 12,
     "metadata": {},
     "output_type": "execute_result"
    }
   ],
   "source": [
    "client"
   ]
  },
  {
   "cell_type": "code",
   "execution_count": 9,
   "metadata": {},
   "outputs": [
    {
     "data": {
      "text/plain": "'ZF1tvV8mcUG3RijQO4FXfI0XlW8QNH1fR4j8W6ZJbmNvPunP45KWPD2AqwFBc9uP'"
     },
     "execution_count": 9,
     "metadata": {},
     "output_type": "execute_result"
    }
   ],
   "source": [
    "df3['api key'][0]"
   ]
  },
  {
   "cell_type": "code",
   "execution_count": null,
   "metadata": {},
   "outputs": [],
   "source": []
  }
 ],
 "metadata": {
  "kernelspec": {
   "display_name": "Python 3.9.5 64-bit",
   "name": "python395jvsc74a57bd07812ea015bdcee6f23a998adcdd2ef97c151c0c241b7b7070987d9313e41299d"
  },
  "language_info": {
   "codemirror_mode": {
    "name": "ipython",
    "version": 3
   },
   "file_extension": ".py",
   "mimetype": "text/x-python",
   "name": "python",
   "nbconvert_exporter": "python",
   "pygments_lexer": "ipython3",
   "version": "3.9.5"
  },
  "metadata": {
   "interpreter": {
    "hash": "7812ea015bdcee6f23a998adcdd2ef97c151c0c241b7b7070987d9313e41299d"
   }
  },
  "orig_nbformat": 2
 },
 "nbformat": 4,
 "nbformat_minor": 2
}